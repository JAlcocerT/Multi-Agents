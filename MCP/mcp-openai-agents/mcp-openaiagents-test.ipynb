{
 "cells": [
  {
   "cell_type": "code",
   "execution_count": null,
   "id": "49401643",
   "metadata": {},
   "outputs": [],
   "source": [
    "# openai-agents==0.0.10"
   ]
  },
  {
   "cell_type": "code",
   "execution_count": 6,
   "id": "633e3b49",
   "metadata": {},
   "outputs": [],
   "source": [
    "from agents import Agent, Runner, trace\n",
    "from agents.mcp import MCPServer, MCPServerStdio"
   ]
  },
  {
   "cell_type": "code",
   "execution_count": 10,
   "id": "ecd1677f",
   "metadata": {},
   "outputs": [],
   "source": [
    "# print(f\"The installed openai version is: {MCPServer.__version__}\")"
   ]
  },
  {
   "cell_type": "code",
   "execution_count": 5,
   "id": "9859227a",
   "metadata": {},
   "outputs": [],
   "source": [
    "import openai\n",
    "import re\n",
    "import httpx\n",
    "import os\n",
    "from dotenv import load_dotenv\n",
    "\n",
    "_ = load_dotenv()\n",
    "from openai import OpenAI"
   ]
  },
  {
   "cell_type": "code",
   "execution_count": null,
   "id": "f6c52a2d",
   "metadata": {},
   "outputs": [],
   "source": []
  },
  {
   "cell_type": "code",
   "execution_count": 3,
   "id": "7f98b946",
   "metadata": {},
   "outputs": [
    {
     "name": "stdout",
     "output_type": "stream",
     "text": [
      "The installed openai version is: 1.74.0\n"
     ]
    }
   ],
   "source": [
    "print(f\"The installed openai version is: {openai.__version__}\")"
   ]
  },
  {
   "cell_type": "code",
   "execution_count": 11,
   "id": "1c0cecfe",
   "metadata": {},
   "outputs": [],
   "source": [
    "# !pip freeze > requirements-output.txt #generate a txt with the ones you have!"
   ]
  },
  {
   "cell_type": "code",
   "execution_count": null,
   "id": "cebbc0d3",
   "metadata": {},
   "outputs": [
    {
     "name": "stdout",
     "output_type": "stream",
     "text": [
      "Please enter the path to the git repository: "
     ]
    }
   ],
   "source": [
    "import asyncio\n",
    "import shutil\n",
    "import os\n",
    "import openai\n",
    "from dotenv import load_dotenv\n",
    "# from agents.mcp import MCPServer, MCPServerStdio # Removed MCP imports\n",
    "from agents import Agent, Runner, trace\n",
    "\n",
    "# Load environment variables\n",
    "load_dotenv()\n",
    "openai.api_key = os.getenv(\"OPENAI_API_KEY\")\n",
    "\n",
    "async def run(directory_path: str): # Removed mcp_server argument\n",
    "    agent = Agent(\n",
    "        name=\"Assistant\",\n",
    "        instructions=f\"Answer questions about the git repository at {directory_path}. You can use standard Git commands or other tools to inspect the repository.\", # Updated instructions\n",
    "        # mcp_servers=[], # Removed mcp_servers\n",
    "        # Potentially add tools here for direct Git interaction\n",
    "    )\n",
    "\n",
    "    message = \"Who's the most frequent contributor?\"\n",
    "    print(\"\\n\" + \"-\" * 40)\n",
    "    print(f\"Running: {message}\")\n",
    "    result = await Runner.run(starting_agent=agent, input=message, context={\"repo_path\": directory_path}) # Passing context\n",
    "    print(result.final_output)\n",
    "\n",
    "    message = \"Summarize the last change in the repository.\"\n",
    "    print(\"\\n\" + \"-\" * 40)\n",
    "    print(f\"Running: {message}\")\n",
    "    result = await Runner.run(starting_agent=agent, input=message, context={\"repo_path\": directory_path}) # Passing context\n",
    "    print(result.final_output)\n",
    "\n",
    "\n",
    "async def main():\n",
    "    # Ask the user for the directory path\n",
    "    directory_path = '/home/jalcocert/Desktop/IT/Docker' #input(\"Please enter the path to the git repository: \")\n",
    "\n",
    "    with trace(workflow_name=\"Direct Git Example\"):\n",
    "        await run(directory_path) # Called run directly\n",
    "\n",
    "\n",
    "if __name__ == \"__main__\":\n",
    "    async def run_in_jupyter():\n",
    "        await main()\n",
    "\n",
    "    asyncio.create_task(run_in_jupyter())"
   ]
  }
 ],
 "metadata": {
  "kernelspec": {
   "display_name": "oaiagent_venv",
   "language": "python",
   "name": "python3"
  },
  "language_info": {
   "codemirror_mode": {
    "name": "ipython",
    "version": 3
   },
   "file_extension": ".py",
   "mimetype": "text/x-python",
   "name": "python",
   "nbconvert_exporter": "python",
   "pygments_lexer": "ipython3",
   "version": "3.13.2"
  }
 },
 "nbformat": 4,
 "nbformat_minor": 5
}
